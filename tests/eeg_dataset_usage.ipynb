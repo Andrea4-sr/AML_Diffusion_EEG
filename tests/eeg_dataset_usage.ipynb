{
 "cells": [
  {
   "cell_type": "code",
   "execution_count": 1,
   "metadata": {},
   "outputs": [
    {
     "name": "stdout",
     "output_type": "stream",
     "text": [
      "x: <class 'torch.Tensor'> torch.Size([256, 1, 1250])\n",
      "t: <class 'torch.Tensor'> torch.Size([256])\n",
      "mean(x): tensor(-2.6867e-18, dtype=torch.float64)\n",
      "std(x): tensor(1.0000, dtype=torch.float64)\n",
      "t = tensor([2, 2, 2, 2, 2, 0, 2, 0, 1, 2, 2, 2, 2, 2, 2, 2, 2, 2, 2, 2, 2, 1, 2, 2,\n",
      "        0, 2, 1, 2, 2, 2, 2, 2, 2, 0, 2, 2, 2, 2, 2, 2, 0, 2, 2, 2, 2, 2, 2, 2,\n",
      "        2, 2, 2, 2, 2, 2, 2, 2, 1, 2, 2, 2, 2, 2, 2, 2, 2, 2, 2, 2, 2, 2, 2, 2,\n",
      "        0, 0, 1, 2, 2, 1, 2, 2, 1, 2, 0, 2, 2, 1, 2, 2, 2, 2, 0, 2, 1, 2, 2, 0,\n",
      "        1, 2, 2, 2, 2, 2, 0, 2, 2, 0, 2, 2, 1, 0, 2, 2, 2, 2, 2, 2, 2, 2, 2, 2,\n",
      "        2, 2, 2, 2, 2, 0, 2, 2, 1, 2, 2, 2, 0, 2, 2, 2, 2, 2, 2, 2, 1, 2, 2, 2,\n",
      "        2, 2, 0, 2, 2, 2, 2, 2, 2, 2, 2, 1, 0, 1, 2, 1, 2, 2, 2, 1, 2, 2, 2, 2,\n",
      "        2, 2, 2, 2, 1, 2, 2, 2, 2, 2, 2, 2, 2, 2, 2, 2, 1, 2, 2, 1, 2, 2, 2, 1,\n",
      "        2, 2, 2, 2, 0, 2, 2, 2, 2, 1, 2, 2, 2, 2, 2, 2, 2, 2, 2, 2, 2, 1, 2, 2,\n",
      "        2, 1, 2, 2, 2, 2, 2, 0, 2, 2, 2, 2, 2, 1, 2, 1, 2, 2, 2, 2, 2, 2, 2, 2,\n",
      "        2, 2, 0, 2, 0, 2, 2, 2, 0, 2, 2, 0, 2, 2, 2, 1])\n",
      "['non_seizure' 'non_seizure' 'non_seizure' 'non_seizure' 'non_seizure'\n",
      " 'fnsz' 'non_seizure' 'fnsz' 'gnsz' 'non_seizure' 'non_seizure'\n",
      " 'non_seizure' 'non_seizure' 'non_seizure' 'non_seizure' 'non_seizure'\n",
      " 'non_seizure' 'non_seizure' 'non_seizure' 'non_seizure' '...']\n"
     ]
    }
   ],
   "source": [
    "import os\n",
    "import torch\n",
    "import torchvision\n",
    "import numpy\n",
    "import numpy.typing\n",
    "\n",
    "\n",
    "path = '/path/to/prepared/dataset'\n",
    "\n",
    "\n",
    "assert os.path.isdir(path)\n",
    "\n",
    "\n",
    "def normalize(signal: numpy.typing.NDArray):\n",
    "    mean = numpy.mean(signal, axis = -1, keepdims = True)\n",
    "    std = numpy.std(signal, axis = -1, keepdims = True)\n",
    "    return (signal - mean) / std\n",
    "\n",
    "ds = torchvision.datasets.DatasetFolder(path,\n",
    "                                        loader = lambda path: numpy.load(path),\n",
    "                                        extensions = (\"npy\"),\n",
    "                                        transform = normalize)\n",
    "dl = torch.utils.data.DataLoader(ds, batch_size = 256, shuffle = True)\n",
    "\n",
    "\n",
    "for x, t in dl:    \n",
    "    print(\"x:\", type(x), x.shape)\n",
    "    print(\"t:\", type(t),t.shape)\n",
    "    print(\"mean(x):\", torch.mean(x))\n",
    "    print(\"std(x):\", torch.std(x))\n",
    "    print(\"t =\", t)\n",
    "    print(numpy.asarray([ds.classes[i] for i in t[:20]] + ['...']))\n",
    "    break\n"
   ]
  }
 ],
 "metadata": {
  "kernelspec": {
   "display_name": "uzh_fs24_aml_project",
   "language": "python",
   "name": "python3"
  },
  "language_info": {
   "codemirror_mode": {
    "name": "ipython",
    "version": 3
   },
   "file_extension": ".py",
   "mimetype": "text/x-python",
   "name": "python",
   "nbconvert_exporter": "python",
   "pygments_lexer": "ipython3",
   "version": "3.12.2"
  }
 },
 "nbformat": 4,
 "nbformat_minor": 2
}
