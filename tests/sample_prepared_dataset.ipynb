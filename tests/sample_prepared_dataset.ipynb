{
 "cells": [
  {
   "cell_type": "code",
   "execution_count": 1,
   "metadata": {},
   "outputs": [
    {
     "data": {
      "text/plain": [
       "<Figure size 1500x800 with 0 Axes>"
      ]
     },
     "metadata": {},
     "output_type": "display_data"
    }
   ],
   "source": [
    "from matplotlib import pyplot as plt\n",
    "import pickle\n",
    "import glob\n",
    "import os\n",
    "import random\n",
    "\n",
    "\n",
    "dir = '/path/to/prepared/dataset'\n",
    "\n",
    "files = glob.glob(os.path.join(dir, \"*\"))\n",
    "\n",
    "plt.figure(figsize = (15, 8))\n",
    "\n",
    "with open(random.choice(files), 'rb') as file: \n",
    "    data = pickle.load(file) \n",
    "  \n",
    "    for idx, channel in enumerate(data):\n",
    "        if idx >= 8: break\n",
    "        plt.subplot(min(8, len(data) // 2), 2, idx + 1)\n",
    "        plt.plot(data[channel])\n",
    "        plt.ylabel(channel)\n"
   ]
  }
 ],
 "metadata": {
  "kernelspec": {
   "display_name": "uzh_fs24_aml_project",
   "language": "python",
   "name": "python3"
  },
  "language_info": {
   "codemirror_mode": {
    "name": "ipython",
    "version": 3
   },
   "file_extension": ".py",
   "mimetype": "text/x-python",
   "name": "python",
   "nbconvert_exporter": "python",
   "pygments_lexer": "ipython3",
   "version": "3.12.2"
  }
 },
 "nbformat": 4,
 "nbformat_minor": 2
}
