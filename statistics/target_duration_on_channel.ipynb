{
 "cells": [
  {
   "cell_type": "code",
   "execution_count": 4,
   "metadata": {},
   "outputs": [
    {
     "name": "stderr",
     "output_type": "stream",
     "text": [
      "100%|██████████| 4441/4441 [00:04<00:00, 1074.99it/s]"
     ]
    },
    {
     "name": "stdout",
     "output_type": "stream",
     "text": [
      "Duration of gnsz on CZ over 4441 files:\n",
      "40031.90290000002 s\n",
      "667.198381666667 min\n",
      "11.119973027777784 h\n",
      "Using sample duration of 4 seconds this gives about 10007 samples.\n"
     ]
    },
    {
     "name": "stderr",
     "output_type": "stream",
     "text": [
      "\n"
     ]
    }
   ],
   "source": [
    "import glob\n",
    "import os\n",
    "import pandas\n",
    "import tqdm\n",
    "\n",
    "\n",
    "path = '/path/to/edf/files'\n",
    "target = \"gnsz\"\n",
    "channel = \"CZ\"\n",
    "sample_duration = 4\n",
    "\n",
    "\n",
    "assert os.path.isdir(path)\n",
    "\n",
    "\n",
    "def _has_interesting_channel(channel_spec: str, channels: list[str]):\n",
    "    channels_in_spec = channel_spec.split('-')\n",
    "    for channel in channels_in_spec:\n",
    "        if channel in channels:\n",
    "            return True\n",
    "    return False\n",
    "\n",
    "\n",
    "def _merge_ranges(ranges: list[tuple[int, int]]):\n",
    "    for range in ranges:\n",
    "        assert range[0] < range[1]\n",
    "        if range[0] >= range[1]:\n",
    "            raise ValueError()\n",
    "        \n",
    "    sorted_ranges = sorted(ranges, key = lambda x: x[0])\n",
    "    i = 0\n",
    "\n",
    "    while i < len(sorted_ranges) - 1:\n",
    "        if sorted_ranges[i][1] >= sorted_ranges[i + 1][0]:\n",
    "            sorted_ranges[i] = (sorted_ranges[i][0], max(sorted_ranges[i][1], sorted_ranges[i + 1][1]))\n",
    "            del sorted_ranges[i + 1]\n",
    "        else:\n",
    "            i += 1\n",
    "    \n",
    "    return sorted_ranges\n",
    "\n",
    "\n",
    "def _get_ranges_for_labels(csv_file_path: str, labels: list[str], channels: list[str]):\n",
    "    csv_data = pandas.read_csv(csv_file_path, delimiter = \",\", skiprows = 5)\n",
    "    interesting_data = csv_data[csv_data['label'].isin(labels) &\n",
    "                                csv_data['channel'].apply(lambda x: _has_interesting_channel(x, channels))]\n",
    "    \n",
    "    ranges_for_labels = {}\n",
    "\n",
    "    for label in labels:\n",
    "        data_for_label = interesting_data[interesting_data['label'] == label]\n",
    "\n",
    "        if not data_for_label.empty:\n",
    "            ranges = list(zip(data_for_label['start_time'], data_for_label['stop_time']))\n",
    "            try:\n",
    "                merged_ranges = _merge_ranges(ranges)\n",
    "                ranges_for_labels[label] = merged_ranges\n",
    "            except ValueError:\n",
    "                print(f\"{csv_file_path}: Could not determine ranges for label {label}: {ranges}\")\n",
    "                pass\n",
    "    \n",
    "    return ranges_for_labels\n",
    "\n",
    "\n",
    "def _filenames_of_edf_csv_pairs(edf_dir: str):\n",
    "    edf_files = glob.glob(os.path.join(edf_dir, \"*.edf\"))\n",
    "    filenames = [os.path.splitext(os.path.basename(x))[0] for x in edf_files]\n",
    "    filenames_with_csv_and_edf = [x for x in filenames if os.path.isfile(os.path.join(edf_dir, x + \".csv\")) ]# and os.path.isfile(os.path.join(edf_dir, \".edf\"))] # not necessary since the initial list is based on edf files existing.\n",
    "    return sorted(filenames_with_csv_and_edf)\n",
    "\n",
    "\n",
    "filenames = _filenames_of_edf_csv_pairs(path)\n",
    "csv_files = [os.path.join(path, x + \".csv\") for x in filenames]\n",
    "edf_files = [os.path.join(path, x + \".edf\") for x in filenames]\n",
    "sum = 0\n",
    "\n",
    "for csv_file in tqdm.tqdm(csv_files):\n",
    "    ranges = _get_ranges_for_labels(csv_file, [target], [channel])\n",
    "    if len(ranges) > 0:\n",
    "        for range in ranges[list(ranges.keys())[0]]:\n",
    "            sum += range[1] - range[0]\n",
    "\n",
    "\n",
    "print(f\"Duration of {target} on {channel} over {len(csv_files)} files:\")\n",
    "print(f\"{sum} s\")\n",
    "print(f\"{sum / 60} min\")\n",
    "print(f\"{sum / 3600} h\")\n",
    "print(f\"Using sample duration of {sample_duration} seconds this gives about {int(sum // sample_duration)} samples.\")\n"
   ]
  }
 ],
 "metadata": {
  "kernelspec": {
   "display_name": "uzh_fs24_aml_project",
   "language": "python",
   "name": "python3"
  },
  "language_info": {
   "codemirror_mode": {
    "name": "ipython",
    "version": 3
   },
   "file_extension": ".py",
   "mimetype": "text/x-python",
   "name": "python",
   "nbconvert_exporter": "python",
   "pygments_lexer": "ipython3",
   "version": "3.12.2"
  }
 },
 "nbformat": 4,
 "nbformat_minor": 2
}
